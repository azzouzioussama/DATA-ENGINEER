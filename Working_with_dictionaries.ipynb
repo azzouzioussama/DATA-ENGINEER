{
 "cells": [
  {
   "cell_type": "markdown",
   "metadata": {},
   "source": [
    "# Dictionaries\n"
   ]
  },
  {
   "cell_type": "code",
   "execution_count": null,
   "metadata": {},
   "outputs": [],
   "source": [
    "# dic"
   ]
  },
  {
   "cell_type": "code",
   "execution_count": 1,
   "metadata": {},
   "outputs": [],
   "source": [
    "def findFinalArray(arr, k):\n",
    "    print(\"Initial arr:\", arr)\n",
    "    print(\"k:\", k)\n",
    "    n = len(arr)\n",
    "    \n",
    "    # Example transformation loop (the one you currently have)\n",
    "    for i in range(k):\n",
    "        # Print the iteration number and array before you modify it\n",
    "        print(f\"Iteration {i} - before:\")\n",
    "        print(\"  arr =\", arr)\n",
    "\n",
    "        a = arr[i]\n",
    "        b = arr[n - 1 - i]\n",
    "\n",
    "        # Show which elements you're about to update\n",
    "        print(f\"  Updating arr[{i}] and arr[{n - 1 - i}]\")\n",
    "        print(f\"  a = {a}, b = {b}\")\n",
    "\n",
    "        arr[i] = a * b\n",
    "        arr[n - 1 - i] = (a + b) // 2\n",
    "\n",
    "        # Print the array after modification\n",
    "        print(f\"Iteration {i} - after:\")\n",
    "        print(\"  arr =\", arr)\n",
    "        print(\"---\")\n",
    "\n",
    "    print(\"Final arr:\", arr)\n",
    "    return arr\n"
   ]
  },
  {
   "cell_type": "code",
   "execution_count": null,
   "metadata": {},
   "outputs": [],
   "source": [
    "# if __name__ == '__main__':\n",
    "#     fptr = open(os.environ['OUTPUT_PATH'], 'w')\n",
    "\n",
    "#     arr_count = int(input().strip())\n",
    "\n",
    "#     arr = []\n",
    "\n",
    "#     for _ in range(arr_count):\n",
    "#         arr_item = int(input().strip())\n",
    "#         arr.append(arr_item)\n",
    "\n",
    "#     k = int(input().strip())\n",
    "\n",
    "#     result = findFinalArray(arr, k)\n",
    "\n",
    "#     fptr.write('\\n'.join(map(str, result)))\n",
    "#     fptr.write('\\n')\n",
    "\n",
    "#     fptr.close()"
   ]
  }
 ],
 "metadata": {
  "kernelspec": {
   "display_name": "base",
   "language": "python",
   "name": "python3"
  },
  "language_info": {
   "codemirror_mode": {
    "name": "ipython",
    "version": 3
   },
   "file_extension": ".py",
   "mimetype": "text/x-python",
   "name": "python",
   "nbconvert_exporter": "python",
   "pygments_lexer": "ipython3",
   "version": "3.11.7"
  }
 },
 "nbformat": 4,
 "nbformat_minor": 2
}
