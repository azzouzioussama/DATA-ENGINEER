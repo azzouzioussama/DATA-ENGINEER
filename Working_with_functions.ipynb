{
 "cells": [
  {
   "cell_type": "markdown",
   "metadata": {},
   "source": [
    "# Python Functions\n",
    "A function is a block of code which only runs when it is called.\n",
    "\n",
    "You can pass data, known as parameters, into a function.\n",
    "\n",
    "A function can return data as a result."
   ]
  },
  {
   "cell_type": "code",
   "execution_count": 1,
   "metadata": {},
   "outputs": [
    {
     "name": "stdout",
     "output_type": "stream",
     "text": [
      "This is a function\n"
     ]
    }
   ],
   "source": [
    "# creating a function\n",
    "def func():\n",
    "    print(\"This is a function\")\n",
    "\n",
    "func()"
   ]
  },
  {
   "cell_type": "code",
   "execution_count": 2,
   "metadata": {},
   "outputs": [
    {
     "name": "stdout",
     "output_type": "stream",
     "text": [
      "Hello John\n"
     ]
    }
   ],
   "source": [
    "# Arguments\n",
    "def func(name):\n",
    "    print(\"Hello\", name)\n",
    "\n",
    "func(\"John\")"
   ]
  },
  {
   "cell_type": "code",
   "execution_count": 1,
   "metadata": {},
   "outputs": [
    {
     "name": "stdout",
     "output_type": "stream",
     "text": [
      "Hello John you are 25 years old and you are from USA\n"
     ]
    }
   ],
   "source": [
    "# 3 arguments\n",
    "def func(name, age, country):\n",
    "    print(\"Hello\", name, \"you are\", age, \"years old and you are from\", country)\n",
    "\n",
    "func(\"John\", 25, \"USA\")"
   ]
  },
  {
   "cell_type": "code",
   "execution_count": 3,
   "metadata": {},
   "outputs": [
    {
     "name": "stdout",
     "output_type": "stream",
     "text": [
      "The name is jake\n"
     ]
    }
   ],
   "source": [
    "# Arbitrary Arguments *args\n",
    "\n",
    "def func(*names):\n",
    "    print(\"The name is\", names[2])\n",
    "\n",
    "func(\"john\",'hana','jake')"
   ]
  },
  {
   "cell_type": "code",
   "execution_count": 4,
   "metadata": {},
   "outputs": [
    {
     "name": "stdout",
     "output_type": "stream",
     "text": [
      "Hello John you are 25 years old and you are from USA\n"
     ]
    }
   ],
   "source": [
    "# Keyword Arguments : this is used to pass the values with the key value pair\n",
    "def func(name, age, country):\n",
    "    print(\"Hello\", name, \"you are\", age, \"years old and you are from\", country)\n",
    "\n",
    "func(age=25, name=\"John\", country=\"USA\")"
   ]
  },
  {
   "cell_type": "code",
   "execution_count": 7,
   "metadata": {},
   "outputs": [
    {
     "name": "stdout",
     "output_type": "stream",
     "text": [
      "The name is john\n"
     ]
    }
   ],
   "source": [
    "# Arbitrary Keyword Arguments **kwargs \": this is used to pass the values with the key value pair\"\n",
    "\n",
    "def func(**names):\n",
    "    print(\"The name is\", names[\"name\"])\n",
    "\n",
    "func(name='john',age=25,country='USA')"
   ]
  },
  {
   "cell_type": "code",
   "execution_count": 9,
   "metadata": {},
   "outputs": [
    {
     "name": "stdout",
     "output_type": "stream",
     "text": [
      "Hello Hana\n"
     ]
    }
   ],
   "source": [
    "# Default Parameter Value\n",
    "def func(name = \"John\"):\n",
    "    print(\"Hello\", name)\n",
    "\n",
    "func(\"Hana\")"
   ]
  },
  {
   "cell_type": "code",
   "execution_count": 11,
   "metadata": {},
   "outputs": [
    {
     "name": "stdout",
     "output_type": "stream",
     "text": [
      "apple\n",
      "banana\n",
      "cherry\n"
     ]
    }
   ],
   "source": [
    "# Passing a List as an Argument\n",
    "def func(food):\n",
    "    for x in food:\n",
    "        print(x)\n",
    "\n",
    "\n",
    "fruits = [\"apple\", \"banana\", \"cherry\"]\n",
    "\n",
    "func(fruits)"
   ]
  },
  {
   "cell_type": "code",
   "execution_count": null,
   "metadata": {},
   "outputs": [],
   "source": []
  }
 ],
 "metadata": {
  "kernelspec": {
   "display_name": "Python 3",
   "language": "python",
   "name": "python3"
  },
  "language_info": {
   "codemirror_mode": {
    "name": "ipython",
    "version": 3
   },
   "file_extension": ".py",
   "mimetype": "text/x-python",
   "name": "python",
   "nbconvert_exporter": "python",
   "pygments_lexer": "ipython3",
   "version": "3.11.11"
  }
 },
 "nbformat": 4,
 "nbformat_minor": 2
}
