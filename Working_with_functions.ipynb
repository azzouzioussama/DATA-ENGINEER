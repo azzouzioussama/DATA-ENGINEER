{
 "cells": [
  {
   "cell_type": "markdown",
   "metadata": {},
   "source": [
    "# Python Functions\n",
    "A function is a block of code which only runs when it is called.\n",
    "\n",
    "You can pass data, known as parameters, into a function.\n",
    "\n",
    "A function can return data as a result."
   ]
  },
  {
   "cell_type": "code",
   "execution_count": 1,
   "metadata": {},
   "outputs": [
    {
     "name": "stdout",
     "output_type": "stream",
     "text": [
      "This is a function\n"
     ]
    }
   ],
   "source": [
    "# creating a function\n",
    "def func():\n",
    "    print(\"This is a function\")\n",
    "\n",
    "func()"
   ]
  },
  {
   "cell_type": "code",
   "execution_count": 2,
   "metadata": {},
   "outputs": [
    {
     "name": "stdout",
     "output_type": "stream",
     "text": [
      "Hello John\n"
     ]
    }
   ],
   "source": [
    "# Arguments\n",
    "def func(name):\n",
    "    print(\"Hello\", name)\n",
    "\n",
    "func(\"John\")"
   ]
  },
  {
   "cell_type": "code",
   "execution_count": 1,
   "metadata": {},
   "outputs": [
    {
     "name": "stdout",
     "output_type": "stream",
     "text": [
      "Hello John you are 25 years old and you are from USA\n"
     ]
    }
   ],
   "source": [
    "# 3 arguments\n",
    "def func(name, age, country):\n",
    "    print(\"Hello\", name, \"you are\", age, \"years old and you are from\", country)\n",
    "\n",
    "func(\"John\", 25, \"USA\")"
   ]
  },
  {
   "cell_type": "code",
   "execution_count": 3,
   "metadata": {},
   "outputs": [
    {
     "name": "stdout",
     "output_type": "stream",
     "text": [
      "The name is jake\n"
     ]
    }
   ],
   "source": [
    "# Arbitrary Arguments *args\n",
    "\n",
    "def func(*names):\n",
    "    print(\"The name is\", names[2])\n",
    "\n",
    "func(\"john\",'hana','jake')"
   ]
  },
  {
   "cell_type": "code",
   "execution_count": 4,
   "metadata": {},
   "outputs": [
    {
     "name": "stdout",
     "output_type": "stream",
     "text": [
      "Hello John you are 25 years old and you are from USA\n"
     ]
    }
   ],
   "source": [
    "# Keyword Arguments : this is used to pass the values with the key value pair\n",
    "def func(name, age, country):\n",
    "    print(\"Hello\", name, \"you are\", age, \"years old and you are from\", country)\n",
    "\n",
    "func(age=25, name=\"John\", country=\"USA\")"
   ]
  },
  {
   "cell_type": "code",
   "execution_count": 7,
   "metadata": {},
   "outputs": [
    {
     "name": "stdout",
     "output_type": "stream",
     "text": [
      "The name is john\n"
     ]
    }
   ],
   "source": [
    "# Arbitrary Keyword Arguments **kwargs \": this is used to pass the values with the key value pair\"\n",
    "\n",
    "def func(**names):\n",
    "    print(\"The name is\", names[\"name\"])\n",
    "\n",
    "func(name='john',age=25,country='USA')"
   ]
  },
  {
   "cell_type": "code",
   "execution_count": 9,
   "metadata": {},
   "outputs": [
    {
     "name": "stdout",
     "output_type": "stream",
     "text": [
      "Hello Hana\n"
     ]
    }
   ],
   "source": [
    "# Default Parameter Value\n",
    "def func(name = \"John\"):\n",
    "    print(\"Hello\", name)\n",
    "\n",
    "func(\"Hana\")"
   ]
  },
  {
   "cell_type": "code",
   "execution_count": 11,
   "metadata": {},
   "outputs": [
    {
     "name": "stdout",
     "output_type": "stream",
     "text": [
      "apple\n",
      "banana\n",
      "cherry\n"
     ]
    }
   ],
   "source": [
    "# Passing a List as an Argument\n",
    "def func(food):\n",
    "    for x in food:\n",
    "        print(x)\n",
    "\n",
    "\n",
    "fruits = [\"apple\", \"banana\", \"cherry\"]\n",
    "\n",
    "func(fruits)"
   ]
  },
  {
   "cell_type": "code",
   "execution_count": 12,
   "metadata": {},
   "outputs": [
    {
     "data": {
      "text/plain": [
       "2"
      ]
     },
     "execution_count": 12,
     "metadata": {},
     "output_type": "execute_result"
    }
   ],
   "source": [
    "# Return Values\n",
    "def func(x):\n",
    "    return 5%x\n",
    "\n",
    "func(3)"
   ]
  },
  {
   "cell_type": "code",
   "execution_count": 13,
   "metadata": {},
   "outputs": [],
   "source": [
    "# The pass Statement\n",
    "def func():\n",
    "    pass"
   ]
  },
  {
   "cell_type": "code",
   "execution_count": 15,
   "metadata": {},
   "outputs": [
    {
     "name": "stdout",
     "output_type": "stream",
     "text": [
      "John\n"
     ]
    }
   ],
   "source": [
    "# positional only arguments: / : this is used to make the arguments positional only\n",
    "def func(name, /):\n",
    "    print(name)\n",
    "\n",
    "func(\"John\")\n",
    "# func(name=\"John\") # this will give an error"
   ]
  },
  {
   "cell_type": "code",
   "execution_count": 16,
   "metadata": {},
   "outputs": [
    {
     "name": "stdout",
     "output_type": "stream",
     "text": [
      "John\n"
     ]
    }
   ],
   "source": [
    "# Keyword only arguments: * : this is used to make the arguments keyword only\n",
    "def func(*, name):\n",
    "    print(name)\n",
    "\n",
    "func(name=\"John\")\n",
    "# func(\"John\") # this will give an error"
   ]
  },
  {
   "cell_type": "code",
   "execution_count": 17,
   "metadata": {},
   "outputs": [
    {
     "name": "stdout",
     "output_type": "stream",
     "text": [
      "The name is jake\n"
     ]
    }
   ],
   "source": [
    "# Arbitrary positional arguments: *args : this is used to pass the values as a tuple\n",
    "def func(*names):\n",
    "    print(\"The name is\", names[2])\n",
    "\n",
    "func(\"john\",'hana','jake')"
   ]
  },
  {
   "cell_type": "code",
   "execution_count": 18,
   "metadata": {},
   "outputs": [
    {
     "name": "stdout",
     "output_type": "stream",
     "text": [
      "Hello John you are 25 years old and you are from USA\n"
     ]
    }
   ],
   "source": [
    "# Combination of the above\n",
    "def func(name, /, age, *, country):\n",
    "    print(\"Hello\", name, \"you are\", age, \"years old and you are from\", country)\n",
    "\n",
    "func(\"John\", 25, country=\"USA\")\n",
    "# func(\"John\", 25, \"USA\") # this will give an error"
   ]
  },
  {
   "cell_type": "code",
   "execution_count": 22,
   "metadata": {},
   "outputs": [
    {
     "name": "stdout",
     "output_type": "stream",
     "text": [
      "120\n"
     ]
    }
   ],
   "source": [
    "# Recursion : this is a function that calls itself\n",
    "def factorial(x):\n",
    "    if x == 1:\n",
    "        return 1\n",
    "    else:\n",
    "        return (x * factorial(x-1))\n",
    "    \n",
    "print(factorial(5))"
   ]
  },
  {
   "cell_type": "code",
   "execution_count": 24,
   "metadata": {},
   "outputs": [
    {
     "name": "stdout",
     "output_type": "stream",
     "text": [
      "\n",
      "\n",
      "Recursion Example Results\n",
      "1\n",
      "3\n",
      "6\n",
      "10\n",
      "15\n",
      "21\n"
     ]
    },
    {
     "data": {
      "text/plain": [
       "21"
      ]
     },
     "execution_count": 24,
     "metadata": {},
     "output_type": "execute_result"
    }
   ],
   "source": [
    "# Example 2: Tri_recursion\n",
    "\n",
    "def tri_recursion(k):\n",
    "    if(k > 0):\n",
    "        result = k + tri_recursion(k - 1)\n",
    "        print(result)\n",
    "    else:\n",
    "        result = 0\n",
    "    return result\n",
    "\n",
    "print(\"\\n\\nRecursion Example Results\")\n",
    "tri_recursion(6)\n"
   ]
  },
  {
   "cell_type": "code",
   "execution_count": null,
   "metadata": {},
   "outputs": [],
   "source": []
  }
 ],
 "metadata": {
  "kernelspec": {
   "display_name": "Python 3",
   "language": "python",
   "name": "python3"
  },
  "language_info": {
   "codemirror_mode": {
    "name": "ipython",
    "version": 3
   },
   "file_extension": ".py",
   "mimetype": "text/x-python",
   "name": "python",
   "nbconvert_exporter": "python",
   "pygments_lexer": "ipython3",
   "version": "3.11.11"
  }
 },
 "nbformat": 4,
 "nbformat_minor": 2
}
