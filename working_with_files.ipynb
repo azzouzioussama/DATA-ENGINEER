{
 "cells": [
  {
   "cell_type": "code",
   "execution_count": 1,
   "metadata": {},
   "outputs": [],
   "source": [
    "# Syntaxe de base\n",
    "fichier = open('donnees.txt', \"r\")  # read : lecture\n",
    "# Opérations sur le fichier\n",
    "fichier.close()"
   ]
  },
  {
   "cell_type": "code",
   "execution_count": 2,
   "metadata": {},
   "outputs": [
    {
     "name": "stdout",
     "output_type": "stream",
     "text": [
      "C:/Users/oumar/OneDrive/Bureau/EC Stephenson Formation/Cours 3 Lecture et écriture de fichiers/Cours/donnees.txt\n"
     ]
    }
   ],
   "source": [
    "# Recuperer le chemin\n",
    "chemin = \"C:/Users/oumar/OneDrive/Bureau/EC Stephenson Formation/Cours 3 Lecture et écriture de fichiers/Cours/donnees.txt\"\n",
    "print(chemin)"
   ]
  },
  {
   "cell_type": "code",
   "execution_count": 4,
   "metadata": {},
   "outputs": [
    {
     "name": "stdout",
     "output_type": "stream",
     "text": [
      "oussama\n",
      "hello world\n"
     ]
    }
   ],
   "source": [
    "with open('donnees.txt', \"r\") as fichier:\n",
    "    contenu = fichier.read()\n",
    "    print(contenu)"
   ]
  },
  {
   "cell_type": "code",
   "execution_count": 7,
   "metadata": {},
   "outputs": [
    {
     "name": "stdout",
     "output_type": "stream",
     "text": [
      "here's a line:  oussama\n",
      "\n",
      "oussama!\n",
      "here's a line:  hello world\n",
      "hello world!\n"
     ]
    }
   ],
   "source": [
    "fichier = open('donnees.txt', \"r\")\n",
    "ligne = fichier.readline()\n",
    "while ligne:\n",
    "    print(\"here's a line: \", ligne)\n",
    "    print(ligne.strip()+\"!\")\n",
    "    ligne = fichier.readline()\n",
    "fichier.close()\n",
    "    "
   ]
  },
  {
   "cell_type": "code",
   "execution_count": 8,
   "metadata": {},
   "outputs": [
    {
     "name": "stdout",
     "output_type": "stream",
     "text": [
      "oussama!\n",
      "hello world!\n"
     ]
    }
   ],
   "source": [
    "with open('donnees.txt', \"r\") as fichier:\n",
    "    for ligne in fichier:\n",
    "        print(ligne.strip()+\"!\")"
   ]
  },
  {
   "cell_type": "code",
   "execution_count": 11,
   "metadata": {},
   "outputs": [],
   "source": [
    "# write a new line\n",
    "with open('donnees.txt', \"a\") as fichier:\n",
    "    fichier.write(\"\\nToday is cold\\n\")"
   ]
  },
  {
   "cell_type": "code",
   "execution_count": 12,
   "metadata": {},
   "outputs": [],
   "source": [
    "lignes = [\"Hello, world!\\n\", \"How are you?\\n\", \"Bye!\\n\"]\n",
    "with open('donnees.txt', \"a\") as fichier:\n",
    "    fichier.writelines(lignes)"
   ]
  },
  {
   "cell_type": "code",
   "execution_count": 14,
   "metadata": {},
   "outputs": [],
   "source": [
    "with open('donnees.txt', \"a\") as fichier:\n",
    "    fichier.write(\"\\n New line\\n\")"
   ]
  },
  {
   "cell_type": "code",
   "execution_count": 15,
   "metadata": {},
   "outputs": [],
   "source": [
    "# creatin a new csv file\n",
    "colunms = [\"Prenom\", \"Note\"]\n",
    "data = [[\"Oumar\", \"20\"], [\"Mamadou\", \"18\"], [\"Aissatou\", \"15\"], [\"Fatou\", \"10\"], [\"Moussa\", \"5\"]]\n",
    "with open('notes.csv', \"w\") as fichier:\n",
    "    fichier.write(\";\".join(colunms) + \"\\n\")\n",
    "    for row in data:\n",
    "        fichier.write(\";\".join(row) + \"\\n\")"
   ]
  },
  {
   "cell_type": "code",
   "execution_count": 16,
   "metadata": {},
   "outputs": [
    {
     "name": "stdout",
     "output_type": "stream",
     "text": [
      "['Prenom', 'Note']\n",
      "['Oumar', '20']\n",
      "['Mamadou', '18']\n",
      "['Aissatou', '15']\n",
      "['Fatou', '10']\n",
      "['Moussa', '5']\n"
     ]
    }
   ],
   "source": [
    "import csv\n",
    "with open('notes.csv', \"r\") as fichier:\n",
    "    lecteur = csv.reader(fichier, delimiter=\";\")\n",
    "    for ligne in lecteur:\n",
    "        print(ligne)"
   ]
  },
  {
   "cell_type": "code",
   "execution_count": 17,
   "metadata": {},
   "outputs": [],
   "source": [
    "import csv\n",
    " \n",
    "donnees = [[\"Nom\", \"Note\"], [\"Alice\", 18], [\"Bob\", 15]]\n",
    "with open('resultats.csv', 'w', newline='') as fichier_csv:\n",
    "    ecrivain = csv.writer(fichier_csv)\n",
    "    ecrivain.writerows(donnees)"
   ]
  },
  {
   "cell_type": "code",
   "execution_count": 18,
   "metadata": {},
   "outputs": [
    {
     "name": "stdout",
     "output_type": "stream",
     "text": [
      "{'title': 'Cours Complet : Maîtriser la Gestion des Fichiers en Python', 'sections': [{'title': 'Introduction', 'content': '\\nLa gestion des fichiers est une compétence essentielle pour tout développeur Python. Elle permet de manipuler des données,\\nautomatiser des tâches et interagir avec divers formats de fichiers (texte, CSV, JSON, Excel, etc.).\\nCe cours détaillé aborde les concepts fondamentaux, les outils, les exemples, et des exercices corrigés pour une maîtrise complète.\\n'}, {'title': '1. Pourquoi Gérer les Fichiers en Python ?', 'content': '\\nLes fichiers permettent de :\\n- **Stocker des données** pour un usage ultérieur.\\n- **Analyser ou transformer des données** comme des logs ou des données structurées.\\n- **Automatiser des processus** tels que la génération de rapports ou la gestion de données utilisateurs.\\n- **Faciliter l’échange de données** via des formats comme CSV ou JSON.\\n'}, {'title': '2. Concepts Fondamentaux', 'content': \"\\n#### **2.1 Ouvrir et Fermer un Fichier**\\nEn Python, la fonction `open()` permet d’ouvrir un fichier, et la méthode `close()` permet de libérer les ressources une fois l’opération terminée.\\n\\nModes courants :\\n- `'r'` : Lecture seule (fichier existant obligatoire).\\n- `'w'` : Écriture seule (écrase le contenu ou crée un nouveau fichier).\\n- `'a'` : Ajout (ajoute au contenu existant ou crée un fichier).\\n\\n#### **2.2 Utilisation du Bloc `with`**\\nLe mot-clé `with` garantit la fermeture automatique du fichier.\\n\"}, {'title': '8. Exercices Corrigés', 'content': '\\n#### **Exercice 1 : Vérifier si un prénom est dans un fichier texte**\\n```python\\nwith open(\\'prenoms.txt\\', \\'r\\') as fichier:\\n    prenoms = fichier.read().splitlines()\\n\\nprenom = input(\"Entrez votre prénom : \").capitalize()\\nif prenom in prenoms:\\n    print(\"Votre prénom est déjà dans la liste.\")\\nelse:\\n    with open(\\'prenoms.txt\\', \\'a\\') as fichier:\\n        fichier.write(f\"\\\\n{prenom}\")\\n```\\n'}]}\n"
     ]
    }
   ],
   "source": [
    "import json\n",
    "\n",
    "with open('donnees.json', \"r\") as fichier:\n",
    "    data = json.load(fichier)\n",
    "    print(data)"
   ]
  },
  {
   "cell_type": "code",
   "execution_count": 19,
   "metadata": {},
   "outputs": [],
   "source": [
    "data = {\"name\": \"Alice\", \"age\": 30}\n",
    "with open('donnees.json', \"w\") as fichier:\n",
    "    json.dump(data, fichier)"
   ]
  },
  {
   "cell_type": "code",
   "execution_count": 1,
   "metadata": {},
   "outputs": [
    {
     "name": "stdout",
     "output_type": "stream",
     "text": [
      "oussama\n",
      "\n"
     ]
    }
   ],
   "source": [
    "name_to_find = \"oussama\"\n",
    "file_name = \"donnees.txt\"\n",
    "with open(file_name, \"r\") as fichier:\n",
    "    for ligne in fichier:\n",
    "        if name_to_find in ligne:\n",
    "            print(ligne)\n",
    "            break\n",
    "        else:\n",
    "            print(\"Name not found\")"
   ]
  },
  {
   "cell_type": "code",
   "execution_count": 5,
   "metadata": {},
   "outputs": [
    {
     "name": "stdout",
     "output_type": "stream",
     "text": [
      "oussama : line 1\n"
     ]
    }
   ],
   "source": [
    "def find_name_in_file(name_to_find, file_name):\n",
    "    with open(file_name, \"r\") as file:\n",
    "        for line_index, line in enumerate(file, start=1):\n",
    "            if name_to_find in line:\n",
    "                print(f\"{name_to_find} : line {line_index}\")\n",
    "                return\n",
    "        print(f\"File does not contain {name_to_find}\")\n",
    "\n",
    "# Example usage\n",
    "find_name_in_file(\"oussama\", \"donnees.txt\")"
   ]
  },
  {
   "cell_type": "code",
   "execution_count": 6,
   "metadata": {},
   "outputs": [
    {
     "name": "stdout",
     "output_type": "stream",
     "text": [
      "['Prenom', 'Note']\n",
      "['Oumar', '20']\n",
      "['Mamadou', '18']\n",
      "['Aissatou', '15']\n",
      "['Fatou', '10']\n",
      "['Moussa', '5']\n"
     ]
    }
   ],
   "source": [
    "import csv\n",
    "with open('notes.csv', \"r\") as fichier:\n",
    "    lecteur = csv.reader(fichier, delimiter=\";\")\n",
    "    for ligne in lecteur:\n",
    "        print(ligne)"
   ]
  },
  {
   "cell_type": "code",
   "execution_count": null,
   "metadata": {},
   "outputs": [
    {
     "name": "stdout",
     "output_type": "stream",
     "text": [
      "Average: 13.6\n"
     ]
    }
   ],
   "source": [
    "# we calculate the average of the notes\n",
    "def average_notes(file_name):\n",
    "    with open(file_name, \"r\") as file:\n",
    "        lecteur = csv.reader(file, delimiter=\";\")\n",
    "        next(lecteur)\n",
    "        notes = [int(row[1]) for row in lecteur]\n",
    "        average = sum(notes) / len(notes)\n",
    "        print(f\"Average: {average}\")\n",
    "\n",
    "# Example usage\n",
    "average_notes(\"notes.csv\")"
   ]
  },
  {
   "cell_type": "code",
   "execution_count": 11,
   "metadata": {},
   "outputs": [
    {
     "name": "stdout",
     "output_type": "stream",
     "text": [
      "Le fichier mon_fichier.txt a été créé et alimenté avec les lignes spécifiées.\n"
     ]
    }
   ],
   "source": [
    "def create_and_write_file(file_name, lines):\n",
    "    with open(file_name, \"w\") as file:\n",
    "        for line in lines:\n",
    "            file.write(line + \"\\n\")\n",
    "\n",
    "# Exemple d'utilisation\n",
    "file_name = \"mon_fichier.txt\"\n",
    "lines = [\n",
    "    \"Ceci est la première ligne.\",\n",
    "    \"Ceci est la deuxième ligne.\",\n",
    "    \"Ceci est la troisième ligne.\",\n",
    "    \"Ceci est la quatrième ligne.\"\n",
    "]\n",
    "\n",
    "create_and_write_file(file_name, lines)\n",
    "print(f\"Le fichier {file_name} a été créé et alimenté avec les lignes spécifiées.\")"
   ]
  },
  {
   "cell_type": "code",
   "execution_count": 12,
   "metadata": {},
   "outputs": [
    {
     "name": "stdout",
     "output_type": "stream",
     "text": [
      "Ceci est la première ligne.\n",
      "Ceci est la deuxième ligne.\n",
      "Ceci est la troisième ligne.\n",
      "Ceci est la quatrième ligne.\n"
     ]
    }
   ],
   "source": [
    "with open(file_name, \"r\") as file:\n",
    "    for line in file:\n",
    "        print(line.strip())"
   ]
  },
  {
   "cell_type": "code",
   "execution_count": 8,
   "metadata": {},
   "outputs": [
    {
     "name": "stdout",
     "output_type": "stream",
     "text": [
      "Le fichier donnees.txt contient 8 lignes.\n"
     ]
    }
   ],
   "source": [
    "def count_lines(file_name):\n",
    "    with open(file_name, \"r\") as file:\n",
    "        line_count = sum(1 for _ in file)\n",
    "    return line_count\n",
    "\n",
    "# Exemple d'utilisation\n",
    "file_name = \"donnees.txt\"\n",
    "print(f\"Le fichier {file_name} contient {count_lines(file_name)} lignes.\")"
   ]
  },
  {
   "cell_type": "code",
   "execution_count": 10,
   "metadata": {},
   "outputs": [
    {
     "name": "stdout",
     "output_type": "stream",
     "text": [
      "Le fichier notes.csv contient 6 lignes.\n"
     ]
    }
   ],
   "source": [
    "import csv\n",
    "\n",
    "def count_csv_lines(file_name):\n",
    "    with open(file_name, \"r\") as file:\n",
    "        reader = csv.reader(file)\n",
    "        line_count = sum(1 for _ in reader)\n",
    "    return line_count\n",
    "\n",
    "# Exemple d'utilisation\n",
    "file_name = \"notes.csv\"\n",
    "print(f\"Le fichier {file_name} contient {count_csv_lines(file_name)} lignes.\")"
   ]
  },
  {
   "cell_type": "code",
   "execution_count": 13,
   "metadata": {},
   "outputs": [
    {
     "name": "stdout",
     "output_type": "stream",
     "text": [
      "Iteration 1: Ceci est la première ligne.\n",
      "Iteration 2: Ceci est la deuxième ligne.\n",
      "Iteration 3: Ceci est la troisième ligne.\n",
      "Iteration 4: Ceci est la quatrième ligne.\n"
     ]
    }
   ],
   "source": [
    "def read_and_print_file(file_name):\n",
    "    with open(file_name, \"r\") as file:\n",
    "        for iteration, line in enumerate(file, start=1):\n",
    "            print(f\"Iteration {iteration}: {line.strip()}\")\n",
    "\n",
    "# Exemple d'utilisation\n",
    "file_name = \"mon_fichier.txt\"\n",
    "read_and_print_file(file_name)"
   ]
  },
  {
   "cell_type": "code",
   "execution_count": null,
   "metadata": {},
   "outputs": [],
   "source": []
  }
 ],
 "metadata": {
  "kernelspec": {
   "display_name": "base",
   "language": "python",
   "name": "python3"
  },
  "language_info": {
   "codemirror_mode": {
    "name": "ipython",
    "version": 3
   },
   "file_extension": ".py",
   "mimetype": "text/x-python",
   "name": "python",
   "nbconvert_exporter": "python",
   "pygments_lexer": "ipython3",
   "version": "3.11.7"
  }
 },
 "nbformat": 4,
 "nbformat_minor": 2
}
