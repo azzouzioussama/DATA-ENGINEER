{
 "cells": [
  {
   "cell_type": "markdown",
   "metadata": {},
   "source": [
    "# What is a Module?\n",
    "\n",
    "Consider a module to be the same as a code library.\n",
    "\n",
    "A file containing a set of functions you want to include in your application.\n",
    "Create a Module\n",
    "\n",
    "To create a module just save the code you want in a file with the file extension .py:"
   ]
  },
  {
   "cell_type": "code",
   "execution_count": 2,
   "metadata": {},
   "outputs": [
    {
     "name": "stdout",
     "output_type": "stream",
     "text": [
      "Hello, Oussama\n"
     ]
    }
   ],
   "source": [
    "# import module\n",
    "\n",
    "# module.greeting(\"Oussama\")\n",
    "\n",
    "from module import greeting\n",
    "greeting(\"Oussama\")"
   ]
  },
  {
   "cell_type": "code",
   "execution_count": null,
   "metadata": {},
   "outputs": [],
   "source": []
  }
 ],
 "metadata": {
  "kernelspec": {
   "display_name": "base",
   "language": "python",
   "name": "python3"
  },
  "language_info": {
   "codemirror_mode": {
    "name": "ipython",
    "version": 3
   },
   "file_extension": ".py",
   "mimetype": "text/x-python",
   "name": "python",
   "nbconvert_exporter": "python",
   "pygments_lexer": "ipython3",
   "version": "3.11.7"
  }
 },
 "nbformat": 4,
 "nbformat_minor": 2
}
