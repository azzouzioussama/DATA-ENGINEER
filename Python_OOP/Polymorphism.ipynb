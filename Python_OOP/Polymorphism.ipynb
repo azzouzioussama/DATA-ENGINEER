{
 "cells": [
  {
   "cell_type": "markdown",
   "metadata": {},
   "source": [
    "# Python Polymorphism\n",
    "\n",
    "The word \"polymorphism\" means \"many forms\", and in programming it refers to methods/functions/operators with the same name that can be executed on many objects or classes.\n",
    "\n",
    "### Function Polymorphism\n",
    "\n",
    "An example of a Python function that can be used on different objects is the len() function."
   ]
  },
  {
   "cell_type": "code",
   "execution_count": 2,
   "metadata": {},
   "outputs": [
    {
     "name": "stdout",
     "output_type": "stream",
     "text": [
      "13\n",
      "5\n",
      "2\n"
     ]
    }
   ],
   "source": [
    "# Polymorphism : using the len() function on strings and lists\n",
    "\n",
    "x = 'Hello World !'\n",
    "y = [1, 2, 3, 4, 5]\n",
    "print(len(x))  # 12\n",
    "print(len(y))  # 5\n",
    "# len() is polymorphic\n",
    "# It can be used on different types of objects\n",
    "# The len() function is defined in the object class\n",
    "# and is inherited by all classes\n",
    "\n",
    "z = {'key1': 1, 'key2': 2}\n",
    "print(len(z))  # 2"
   ]
  },
  {
   "cell_type": "markdown",
   "metadata": {},
   "source": [
    "# Class Polymorphism\n",
    "\n",
    "Polymorphism is often used in Class methods, where we can have multiple classes with the same method name.\n",
    "\n",
    "For example, say we have three classes: Car, Boat, and Plane, and they all have a method called move():"
   ]
  },
  {
   "cell_type": "code",
   "execution_count": 3,
   "metadata": {},
   "outputs": [
    {
     "name": "stdout",
     "output_type": "stream",
     "text": [
      "Drive\n",
      "Sail\n",
      "Fly\n"
     ]
    }
   ],
   "source": [
    "class Car:\n",
    "    def __init__(self, brand, model):\n",
    "        self.brand = brand\n",
    "        self.model = model\n",
    "    \n",
    "    def move(self):\n",
    "        print(\"Drive\")\n",
    "\n",
    "class Boat:\n",
    "    def __init__(self, brand, model):\n",
    "        self.brand = brand\n",
    "        self.model = model\n",
    "    \n",
    "    def move(self):\n",
    "        print(\"Sail\")\n",
    "        \n",
    "class Plane:\n",
    "    def __init__(self, brand, model):\n",
    "        self.brand = brand\n",
    "        self.model = model\n",
    "    \n",
    "    def move(self):\n",
    "        print(\"Fly\")\n",
    "\n",
    "\n",
    "car = Car(\"Toyota\", \"Corolla\")\n",
    "boat = Boat(\"Yamaha\", \"242X\")\n",
    "plane = Plane(\"Boeing\", \"747\")\n",
    "\n",
    "for x in (car, boat, plane):\n",
    "    x.move()"
   ]
  },
  {
   "cell_type": "markdown",
   "metadata": {},
   "source": [
    "# Inheritance Class Polymorphism\n",
    "\n",
    "What about classes with child classes with the same name? Can we use polymorphism there?\n",
    "\n",
    "Yes. If we use the example above and make a parent class called Vehicle, and make Car, Boat, Plane child classes of Vehicle, the child classes inherits the Vehicle methods, but can override them:"
   ]
  },
  {
   "cell_type": "code",
   "execution_count": 4,
   "metadata": {},
   "outputs": [
    {
     "name": "stdout",
     "output_type": "stream",
     "text": [
      "Ford\n",
      "Mustang\n",
      "Move!\n",
      "Ibiza\n",
      "Touring 20\n",
      "Sail!\n",
      "Boeing\n",
      "747\n",
      "Fly!\n"
     ]
    }
   ],
   "source": [
    "class Vehicle:\n",
    "  def __init__(self, brand, model):\n",
    "    self.brand = brand\n",
    "    self.model = model\n",
    "\n",
    "  def move(self):\n",
    "    print(\"Move!\")\n",
    "\n",
    "class Car(Vehicle):\n",
    "  pass\n",
    "\n",
    "class Boat(Vehicle):\n",
    "  def move(self):\n",
    "    print(\"Sail!\")\n",
    "\n",
    "class Plane(Vehicle):\n",
    "  def move(self):\n",
    "    print(\"Fly!\")\n",
    "\n",
    "car1 = Car(\"Ford\", \"Mustang\")       #Create a Car object\n",
    "boat1 = Boat(\"Ibiza\", \"Touring 20\") #Create a Boat object\n",
    "plane1 = Plane(\"Boeing\", \"747\")     #Create a Plane object\n",
    "\n",
    "for x in (car1, boat1, plane1):\n",
    "  print(x.brand)\n",
    "  print(x.model)\n",
    "  x.move()"
   ]
  },
  {
   "cell_type": "code",
   "execution_count": null,
   "metadata": {},
   "outputs": [],
   "source": []
  }
 ],
 "metadata": {
  "kernelspec": {
   "display_name": "base",
   "language": "python",
   "name": "python3"
  },
  "language_info": {
   "codemirror_mode": {
    "name": "ipython",
    "version": 3
   },
   "file_extension": ".py",
   "mimetype": "text/x-python",
   "name": "python",
   "nbconvert_exporter": "python",
   "pygments_lexer": "ipython3",
   "version": "3.11.7"
  }
 },
 "nbformat": 4,
 "nbformat_minor": 2
}
