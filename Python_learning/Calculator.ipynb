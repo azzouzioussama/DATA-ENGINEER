{
 "cells": [
  {
   "cell_type": "markdown",
   "metadata": {},
   "source": [
    "# This is our first calculator project"
   ]
  },
  {
   "cell_type": "code",
   "execution_count": null,
   "metadata": {},
   "outputs": [
    {
     "name": "stdout",
     "output_type": "stream",
     "text": [
      "12\n",
      "-2\n",
      "35\n",
      "0.7142857142857143\n"
     ]
    }
   ],
   "source": [
    "# first step is to add basic operations to our calculator\n",
    "# we will add addition (+), subtraction (-), multiplication(*) and division (/)\n",
    "\n",
    "a = 5\n",
    "b = 7\n",
    "\n",
    "print(a+b) # addition\n",
    "print(a-b) # subtraction\n",
    "print(a*b) # multiplication\n",
    "print(a/b) # division"
   ]
  },
  {
   "cell_type": "code",
   "execution_count": 5,
   "metadata": {},
   "outputs": [
    {
     "name": "stdout",
     "output_type": "stream",
     "text": [
      "<class 'int'>\n",
      "<class 'str'>\n",
      "<class 'float'>\n",
      "<class 'complex'>\n"
     ]
    }
   ],
   "source": [
    "x = 8\n",
    "print(type(x))\n",
    "y = \"eight\" # 'eight'\n",
    "print(type(y))\n",
    "z = 8.0\n",
    "print(type(z))\n",
    "\n",
    "c = 5+7j\n",
    "print(type(c))"
   ]
  },
  {
   "cell_type": "code",
   "execution_count": 11,
   "metadata": {},
   "outputs": [
    {
     "name": "stdout",
     "output_type": "stream",
     "text": [
      "Hello, rockstar!\n",
      "Hello, rockstar!\n"
     ]
    }
   ],
   "source": [
    "def my_function(name):\n",
    "    print(\"Hello, \" + name + \"!\")\n",
    "    return \"Hello, \" + name + \"!\"\n",
    "\n",
    "# my_function('rockstar')\n",
    "\n",
    "print(my_function('rockstar'))"
   ]
  },
  {
   "cell_type": "code",
   "execution_count": 1,
   "metadata": {},
   "outputs": [
    {
     "name": "stdout",
     "output_type": "stream",
     "text": [
      "Cannot divide by zero\n"
     ]
    }
   ],
   "source": [
    "def add(a, b):\n",
    "    return a + b\n",
    "def subtract(a, b):\n",
    "    return a - b\n",
    "def multiply(a, b):\n",
    "    return a * b\n",
    "def divide(a, b):\n",
    "    if b == 0:\n",
    "        return \"Cannot divide by zero\"\n",
    "    else:\n",
    "        return a / b\n",
    "    \n",
    "def modulus(a, b):\n",
    "    return a % b\n",
    "\n",
    "print(divide(5, 0)) # this will raise an exception"
   ]
  },
  {
   "cell_type": "code",
   "execution_count": null,
   "metadata": {},
   "outputs": [
    {
     "name": "stdout",
     "output_type": "stream",
     "text": [
      "________________CALCULATOR________________\n",
      "12\n"
     ]
    }
   ],
   "source": [
    "def calculator(a,b , operation):\n",
    "    print('________________CALCULATOR________________')\n",
    "    if operation == \"+\":\n",
    "        return add(a, b)\n",
    "    elif operation == \"-\":\n",
    "        return subtract(a, b)\n",
    "    elif operation == \"*\":\n",
    "        return multiply(a, b)\n",
    "    elif operation == \"/\":\n",
    "        return divide(a, b)\n",
    "    elif operation == \"%\":\n",
    "        return modulus(a, b)\n",
    "    else:\n",
    "        return \"Invalid operation\"\n",
    "    \n",
    "print(calculator(5, 7, \"+\"))"
   ]
  },
  {
   "cell_type": "code",
   "execution_count": 16,
   "metadata": {},
   "outputs": [
    {
     "data": {
      "text/plain": [
       "12"
      ]
     },
     "execution_count": 16,
     "metadata": {},
     "output_type": "execute_result"
    }
   ],
   "source": [
    "add(5, 7)\n"
   ]
  },
  {
   "cell_type": "code",
   "execution_count": null,
   "metadata": {},
   "outputs": [],
   "source": []
  }
 ],
 "metadata": {
  "kernelspec": {
   "display_name": "base",
   "language": "python",
   "name": "python3"
  },
  "language_info": {
   "codemirror_mode": {
    "name": "ipython",
    "version": 3
   },
   "file_extension": ".py",
   "mimetype": "text/x-python",
   "name": "python",
   "nbconvert_exporter": "python",
   "pygments_lexer": "ipython3",
   "version": "3.11.7"
  }
 },
 "nbformat": 4,
 "nbformat_minor": 2
}
