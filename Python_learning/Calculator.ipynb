{
 "cells": [
  {
   "cell_type": "markdown",
   "metadata": {},
   "source": [
    "# This is our first calculator project"
   ]
  },
  {
   "cell_type": "code",
   "execution_count": 1,
   "metadata": {},
   "outputs": [
    {
     "name": "stdout",
     "output_type": "stream",
     "text": [
      "12\n",
      "-2\n",
      "35\n",
      "0.7142857142857143\n"
     ]
    }
   ],
   "source": [
    "# first step is to add basic operations to our calculator\n",
    "# we will add addition (+), subtraction, multiplication and division\n",
    "\n",
    "a = 5\n",
    "b = 7\n",
    "\n",
    "print(a+b) # addition\n",
    "print(a-b) # subtraction\n",
    "print(a*b) # multiplication\n",
    "print(a/b) # division"
   ]
  },
  {
   "cell_type": "code",
   "execution_count": 5,
   "metadata": {},
   "outputs": [
    {
     "name": "stdout",
     "output_type": "stream",
     "text": [
      "<class 'int'>\n",
      "<class 'str'>\n",
      "<class 'float'>\n",
      "<class 'complex'>\n"
     ]
    }
   ],
   "source": [
    "x = 8\n",
    "print(type(x))\n",
    "y = \"eight\" # 'eight'\n",
    "print(type(y))\n",
    "z = 8.0\n",
    "print(type(z))\n",
    "\n",
    "c = 5+7j\n",
    "print(type(c))"
   ]
  },
  {
   "cell_type": "code",
   "execution_count": 11,
   "metadata": {},
   "outputs": [
    {
     "name": "stdout",
     "output_type": "stream",
     "text": [
      "Hello, rockstar!\n",
      "Hello, rockstar!\n"
     ]
    }
   ],
   "source": [
    "def my_function(name):\n",
    "    print(\"Hello, \" + name + \"!\")\n",
    "    return \"Hello, \" + name + \"!\"\n",
    "\n",
    "# my_function('rockstar')\n",
    "\n",
    "print(my_function('rockstar'))"
   ]
  },
  {
   "cell_type": "code",
   "execution_count": 14,
   "metadata": {},
   "outputs": [
    {
     "name": "stdout",
     "output_type": "stream",
     "text": [
      "Cannot divide by zero\n"
     ]
    }
   ],
   "source": [
    "def add(a, b):\n",
    "    return a + b\n",
    "def subtract(a, b):\n",
    "    return a - b\n",
    "def multiply(a, b):\n",
    "    return a * b\n",
    "def divide(a, b):\n",
    "    if b == 0:\n",
    "        return \"Cannot divide by zero\"\n",
    "    else:\n",
    "        return a / b\n",
    "\n",
    "print(divide(5, 0)) # this will raise an exception"
   ]
  },
  {
   "cell_type": "code",
   "execution_count": null,
   "metadata": {},
   "outputs": [],
   "source": [
    "print('________________CALCULATOR________________')\n"
   ]
  }
 ],
 "metadata": {
  "kernelspec": {
   "display_name": "base",
   "language": "python",
   "name": "python3"
  },
  "language_info": {
   "codemirror_mode": {
    "name": "ipython",
    "version": 3
   },
   "file_extension": ".py",
   "mimetype": "text/x-python",
   "name": "python",
   "nbconvert_exporter": "python",
   "pygments_lexer": "ipython3",
   "version": "3.11.7"
  }
 },
 "nbformat": 4,
 "nbformat_minor": 2
}
